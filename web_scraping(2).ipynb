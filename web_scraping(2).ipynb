{
 "cells": [
  {
   "cell_type": "code",
   "execution_count": 1,
   "metadata": {
    "collapsed": true
   },
   "outputs": [],
   "source": [
    "#Scraping weather data for Sydney(Website 2)\n",
    "import requests\n",
    "from bs4 import BeautifulSoup\n",
    "from time import sleep            \n",
    "from datetime import datetime\n",
    "import json\n",
    "import pandas as pd\n",
    "import csv\n",
    "import urllib.request\n",
    "import re"
   ]
  },
  {
   "cell_type": "code",
   "execution_count": 2,
   "metadata": {},
   "outputs": [],
   "source": [
    "def getweather():\n",
    "    weather=[]\n",
    "    url=\"https://www.wunderground.com/history/airport/YSSY\"\n",
    "    req=urllib.request.urlopen(url)\n",
    "    page=req.read()\n",
    "    scraping=BeautifulSoup(page,'lxml')\n",
    "    tmp=scraping.findAll(\"div\",attrs={\"class\":\"local-time\"})[0].text\n",
    "    time=(re.findall('[0-9]+:[0-9]+',tmp))[0]    #Extracting the current time\n",
    "    weather.append(time)\n",
    "    Mean=scraping.findAll('tr')[2].find_all('td')[1].text\n",
    "    weather.append(Mean.replace('\\xa0°C\\n','').strip('\\n'))  #Replacing Special Characters.\n",
    "    Max=scraping.findAll('tr')[3].find_all('td')[1].text     #Extracting the Maximum Temperature\n",
    "    weather.append(Max.replace('\\xa0°C\\n','').strip('\\n'))\n",
    "    Min=scraping.findAll('tr')[4].find_all('td')[1].text     #Extracting the Minimum Temperature.\n",
    "    weather.append(Min.replace('\\xa0°C\\n','').strip('\\n'))\n",
    "    Heating=scraping.findAll('tr')[6].find_all('td')[1].text  #Extracting the 'Heating' Attribute\n",
    "    weather.append(Heating.replace('(Base 50)',''))\n",
    "    Humidity=scraping.findAll('tr')[9].find_all('td')[1].text  #Extracting the Humidity\n",
    "    weather.append(Humidity)\n",
    "    return(weather)             "
   ]
  },
  {
   "cell_type": "code",
   "execution_count": 3,
   "metadata": {},
   "outputs": [
    {
     "data": {
      "text/plain": [
       "['6:28', '20', '21', '18', '16 ', '69']"
      ]
     },
     "execution_count": 3,
     "metadata": {},
     "output_type": "execute_result"
    }
   ],
   "source": [
    "getweather()"
   ]
  },
  {
   "cell_type": "code",
   "execution_count": 4,
   "metadata": {},
   "outputs": [],
   "source": [
    "def main():\n",
    "    print(\"Collecting Weather Data in intervals of 30 mins\")\n",
    "    idx = 0\n",
    "    weatherdata = {'Time':[],'Mean':[],'Max':[],'Min':[],'Heating':[],'Humidity':[]}\n",
    "    while idx < 10:\n",
    "        print('collecting weather data '+str(idx))\n",
    "        tmp = getweather()\n",
    "        weatherdata['Time'].append(tmp[0])\n",
    "        weatherdata['Mean'].append(tmp[1])\n",
    "        weatherdata['Max'].append(tmp[2])\n",
    "        weatherdata['Min'].append(tmp[3])\n",
    "        weatherdata['Heating'].append(tmp[4])\n",
    "        weatherdata['Humidity'].append(tmp[5])\n",
    "        idx += 1\n",
    "        #collect data every 1799 seconds\n",
    "        sleep(1800)\n",
    "    data = pd.DataFrame(weatherdata)\n",
    "    data.to_csv('mds_c.csv',index=False)\n",
    "    print(data)"
   ]
  },
  {
   "cell_type": "code",
   "execution_count": 5,
   "metadata": {},
   "outputs": [
    {
     "name": "stdout",
     "output_type": "stream",
     "text": [
      "Collecting Weather Data in intervals of 30 mins\n",
      "collecting weather data 0\n",
      "collecting weather data 1\n",
      "collecting weather data 2\n",
      "collecting weather data 3\n",
      "collecting weather data 4\n",
      "collecting weather data 5\n",
      "collecting weather data 6\n",
      "collecting weather data 7\n",
      "collecting weather data 8\n",
      "collecting weather data 9\n",
      "  Heating Humidity Max Mean Min   Time\n",
      "0     16        69  21   20  18   6:28\n",
      "1     16        68  21   20  18   7:03\n",
      "2     16        68  21   20  18   7:33\n",
      "3     16        68  21   20  18   8:03\n",
      "4     16        68  21   20  18   8:33\n",
      "5     16        67  21   20  18   9:18\n",
      "6     16        67  21   20  18   9:48\n",
      "7     16        67  21   20  18  10:18\n",
      "8     16        66  21   20  18  11:29\n",
      "9     16        66  21   20  18  11:59\n"
     ]
    }
   ],
   "source": [
    "main()"
   ]
  },
  {
   "cell_type": "code",
   "execution_count": null,
   "metadata": {
    "collapsed": true
   },
   "outputs": [],
   "source": []
  }
 ],
 "metadata": {
  "kernelspec": {
   "display_name": "Python 3",
   "language": "python",
   "name": "python3"
  },
  "language_info": {
   "codemirror_mode": {
    "name": "ipython",
    "version": 3
   },
   "file_extension": ".py",
   "mimetype": "text/x-python",
   "name": "python",
   "nbconvert_exporter": "python",
   "pygments_lexer": "ipython3",
   "version": "3.6.0"
  }
 },
 "nbformat": 4,
 "nbformat_minor": 2
}

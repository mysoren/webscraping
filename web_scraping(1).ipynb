{
 "cells": [
  {
   "cell_type": "code",
   "execution_count": 1,
   "metadata": {
    "collapsed": true
   },
   "outputs": [],
   "source": [
    "#Scraping weather data for sydney(Website 1)\n",
    "from bs4 import BeautifulSoup\n",
    "import urllib.request               \n",
    "from time import sleep\n",
    "from datetime import datetime\n",
    "import pandas as pd\n",
    "import re"
   ]
  },
  {
   "cell_type": "code",
   "execution_count": 2,
   "metadata": {
    "collapsed": true
   },
   "outputs": [],
   "source": [
    "def getweather():\n",
    "    weather=[]\n",
    "    url=\"https://weather.com/en-IN/weather/today/l/ASXX0112:1:AS\"\n",
    "    req=urllib.request.urlopen(url)\n",
    "    page=req.read()\n",
    "    scraping=BeautifulSoup(page,'lxml')\n",
    "    tmp=scraping.findAll(\"p\",attrs={\"class\":\"today_nowcard-timestamp\"})[0].text\n",
    "    time=(re.findall('[0-9]+:[0-9]+',tmp))[0]    #Extracting the current time\n",
    "    weather.append(time)\n",
    "    tmp=scraping.findAll(\"div\",attrs={\"class\":\"today_nowcard-temp\"})[0]\n",
    "    temp=tmp.findAll(\"span\",attrs={\"class\":\"\"})[0].text    #Extracting today's temperature\n",
    "    weather.append(temp.replace('°',''))\n",
    "    tmp=scraping.findAll(\"div\",attrs={\"class\":\"today_nowcard-sidecar component panel\"})[0]\n",
    "    humi=tmp.findAll(\"span\",attrs={\"class\":\"\"})[1].text   #Extracting the humidity\n",
    "    humi=humi.replace('%','')\n",
    "    humi='0.'+humi\n",
    "    weather.append(humi)\n",
    "    press=tmp.findAll(\"span\",attrs={\"class\":\"\"})[4].text\n",
    "    press=press.replace('mb','')\n",
    "    weather.append(press)\n",
    "    return(weather)"
   ]
  },
  {
   "cell_type": "code",
   "execution_count": 3,
   "metadata": {},
   "outputs": [
    {
     "data": {
      "text/plain": [
       "['18:17', '18', '0.62', '1023.4  ']"
      ]
     },
     "execution_count": 3,
     "metadata": {},
     "output_type": "execute_result"
    }
   ],
   "source": [
    "getweather()"
   ]
  },
  {
   "cell_type": "code",
   "execution_count": 4,
   "metadata": {},
   "outputs": [],
   "source": [
    "def main():\n",
    "    print(\"Collecting  Weather Data in a intervals of 30 mins\")\n",
    "    idx = 0\n",
    "    weatherdata = {'time':[],'temp':[],'rh':[],'pressure':[]}\n",
    "    while idx < 10:\n",
    "        print('collecting weather data '+str(idx))\n",
    "        tmp = getweather()\n",
    "        weatherdata['time'].append(tmp[0])\n",
    "        weatherdata['temp'].append(tmp[1])\n",
    "        weatherdata['rh'].append(tmp[2])\n",
    "        weatherdata['pressure'].append(tmp[3])\n",
    "        idx += 1\n",
    "        #collect data every 1199 seconds\n",
    "        sleep(1800)\n",
    "    data = pd.DataFrame(weatherdata)\n",
    "    data.to_csv('mds_d.csv',index=False)\n",
    "    print(data)"
   ]
  },
  {
   "cell_type": "code",
   "execution_count": 5,
   "metadata": {},
   "outputs": [
    {
     "name": "stdout",
     "output_type": "stream",
     "text": [
      "Collecting  Weather Data in a intervals of 30 mins\n",
      "collecting weather data 0\n",
      "collecting weather data 1\n",
      "collecting weather data 2\n",
      "collecting weather data 3\n",
      "collecting weather data 4\n",
      "collecting weather data 5\n",
      "collecting weather data 6\n",
      "collecting weather data 7\n",
      "collecting weather data 8\n",
      "collecting weather data 9\n",
      "   pressure    rh temp   time\n",
      "0  1023.4    0.62   18  18:17\n",
      "1  1024.0    0.61   18  18:58\n",
      "2  1024.4    0.65   18  19:32\n",
      "3  1024.7    0.64   18  19:58\n",
      "4  1025.1    0.59   18  20:23\n",
      "5  1025.4    0.58   18  21:09\n",
      "6  1025.4    0.59   18  21:43\n",
      "7  1025.7    0.64   18  22:15\n",
      "8  1025.7    0.60   18  23:23\n",
      "9  1025.7    0.60   18  23:49\n"
     ]
    }
   ],
   "source": [
    "main()"
   ]
  },
  {
   "cell_type": "code",
   "execution_count": null,
   "metadata": {
    "collapsed": true
   },
   "outputs": [],
   "source": []
  }
 ],
 "metadata": {
  "kernelspec": {
   "display_name": "Python 3",
   "language": "python",
   "name": "python3"
  },
  "language_info": {
   "codemirror_mode": {
    "name": "ipython",
    "version": 3
   },
   "file_extension": ".py",
   "mimetype": "text/x-python",
   "name": "python",
   "nbconvert_exporter": "python",
   "pygments_lexer": "ipython3",
   "version": "3.6.0"
  }
 },
 "nbformat": 4,
 "nbformat_minor": 2
}
